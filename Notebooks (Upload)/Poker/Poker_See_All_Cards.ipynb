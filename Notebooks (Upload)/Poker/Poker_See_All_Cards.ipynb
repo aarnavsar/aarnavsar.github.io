{
 "cells": [
  {
   "cell_type": "code",
   "execution_count": null,
   "id": "69996f8f-1571-4439-95c3-ffd2c77c135c",
   "metadata": {},
   "outputs": [],
   "source": [
    "#After a disagreement at the poker table on how many deals would it take for a player to see every card, I decided to simulate it"
   ]
  },
  {
   "cell_type": "code",
   "execution_count": 9,
   "id": "0464da08-6843-459d-8002-da3e7315dd67",
   "metadata": {},
   "outputs": [
    {
     "data": {
      "text/plain": [
       "(array([  5.,  19.,  51.,  84., 106., 127., 111., 108.,  82.,  85.,  59.,\n",
       "         32.,  40.,  28.,  18.,  15.,  14.,   3.,   2.,   2.,   1.,   1.,\n",
       "          1.,   3.,   1.,   0.,   1.,   0.,   0.,   1.]),\n",
       " array([ 56.        ,  63.96666667,  71.93333333,  79.9       ,\n",
       "         87.86666667,  95.83333333, 103.8       , 111.76666667,\n",
       "        119.73333333, 127.7       , 135.66666667, 143.63333333,\n",
       "        151.6       , 159.56666667, 167.53333333, 175.5       ,\n",
       "        183.46666667, 191.43333333, 199.4       , 207.36666667,\n",
       "        215.33333333, 223.3       , 231.26666667, 239.23333333,\n",
       "        247.2       , 255.16666667, 263.13333333, 271.1       ,\n",
       "        279.06666667, 287.03333333, 295.        ]),\n",
       " <BarContainer object of 30 artists>)"
      ]
     },
     "execution_count": 9,
     "metadata": {},
     "output_type": "execute_result"
    },
    {
     "data": {
      "image/png": "[encoded data removed]",
      "text/plain": [
       "<Figure size 640x480 with 1 Axes>"
      ]
     },
     "metadata": {},
     "output_type": "display_data"
    }
   ],
   "source": [
    "import numpy as np\n",
    "from matplotlib import pyplot as plt\n",
    "\n",
    "def simulate_hands_for_one_player_to_see_all_cards(num_simulations=1000, num_players=8):\n",
    "    deck = np.arange(52)  # Representing cards as numbers 0-51\n",
    "    total_deals = []\n",
    "\n",
    "    for _ in range(num_simulations):\n",
    "        #Creating an essentialy empty set which updates the position (representing a unique card) when card is seen.\n",
    "        seen_cards = np.zeros(52, dtype=bool)\n",
    "        deals = 0\n",
    "\n",
    "        while not np.all(seen_cards):\n",
    "            np.random.shuffle(deck)\n",
    "            player_hand = deck[:2]  # First two cards of the shuffled deck (one player's hand)\n",
    "\n",
    "            # Mark these cards as seen\n",
    "            seen_cards[player_hand] = True\n",
    "            deals += 1\n",
    "\n",
    "        total_deals.append(deals)\n",
    "\n",
    "    average_deals = np.mean(total_deals)\n",
    "    return total_deals\n",
    "\n",
    "# Run the simulation\n",
    "average_deals = simulate_hands_for_one_player_to_see_all_cards()\n",
    "plt.hist(average_deals,30)"
   ]
  }
 ],
 "metadata": {
  "kernelspec": {
   "display_name": "Python 3 (ipykernel)",
   "language": "python",
   "name": "python3"
  },
  "language_info": {
   "codemirror_mode": {
    "name": "ipython",
    "version": 3
   },
   "file_extension": ".py",
   "mimetype": "text/x-python",
   "name": "python",
   "nbconvert_exporter": "python",
   "pygments_lexer": "ipython3",
   "version": "3.12.0"
  }
 },
 "nbformat": 4,
 "nbformat_minor": 5
}
